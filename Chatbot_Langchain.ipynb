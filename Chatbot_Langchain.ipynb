{
  "nbformat": 4,
  "nbformat_minor": 0,
  "metadata": {
    "colab": {
      "provenance": [],
      "authorship_tag": "ABX9TyPvhsNkOwL4Fzq9+WUoWu23",
      "include_colab_link": true
    },
    "kernelspec": {
      "name": "python3",
      "display_name": "Python 3"
    },
    "language_info": {
      "name": "python"
    }
  },
  "cells": [
    {
      "cell_type": "markdown",
      "metadata": {
        "id": "view-in-github",
        "colab_type": "text"
      },
      "source": [
        "<a href=\"https://colab.research.google.com/github/devanshmishra10/GenAI_Projects/blob/main/Chatbot_Langchain.ipynb\" target=\"_parent\"><img src=\"https://colab.research.google.com/assets/colab-badge.svg\" alt=\"Open In Colab\"/></a>"
      ]
    },
    {
      "cell_type": "code",
      "execution_count": 1,
      "metadata": {
        "colab": {
          "base_uri": "https://localhost:8080/"
        },
        "id": "wfTQHO_wAcVw",
        "outputId": "43ee3511-f31b-4394-f7ab-4f2ebedd2280"
      },
      "outputs": [
        {
          "output_type": "stream",
          "name": "stdout",
          "text": [
            "\u001b[?25l   \u001b[90m━━━━━━━━━━━━━━━━━━━━━━━━━━━━━━━━━━━━━━━━\u001b[0m \u001b[32m0.0/2.5 MB\u001b[0m \u001b[31m?\u001b[0m eta \u001b[36m-:--:--\u001b[0m\r\u001b[2K   \u001b[91m━━━━━━━━━━━━\u001b[0m\u001b[90m╺\u001b[0m\u001b[90m━━━━━━━━━━━━━━━━━━━━━━━━━━━\u001b[0m \u001b[32m0.8/2.5 MB\u001b[0m \u001b[31m23.3 MB/s\u001b[0m eta \u001b[36m0:00:01\u001b[0m\r\u001b[2K   \u001b[91m━━━━━━━━━━━━━━━━━━━━━━━━━━━━━━━━━━━━━━━\u001b[0m\u001b[91m╸\u001b[0m \u001b[32m2.5/2.5 MB\u001b[0m \u001b[31m46.8 MB/s\u001b[0m eta \u001b[36m0:00:01\u001b[0m\r\u001b[2K   \u001b[90m━━━━━━━━━━━━━━━━━━━━━━━━━━━━━━━━━━━━━━━━\u001b[0m \u001b[32m2.5/2.5 MB\u001b[0m \u001b[31m34.4 MB/s\u001b[0m eta \u001b[36m0:00:00\u001b[0m\n",
            "\u001b[2K   \u001b[90m━━━━━━━━━━━━━━━━━━━━━━━━━━━━━━━━━━━━━━━━\u001b[0m \u001b[32m75.0/75.0 kB\u001b[0m \u001b[31m6.4 MB/s\u001b[0m eta \u001b[36m0:00:00\u001b[0m\n",
            "\u001b[2K   \u001b[90m━━━━━━━━━━━━━━━━━━━━━━━━━━━━━━━━━━━━━━━━\u001b[0m \u001b[32m64.7/64.7 kB\u001b[0m \u001b[31m4.9 MB/s\u001b[0m eta \u001b[36m0:00:00\u001b[0m\n",
            "\u001b[2K   \u001b[90m━━━━━━━━━━━━━━━━━━━━━━━━━━━━━━━━━━━━━━━━\u001b[0m \u001b[32m50.9/50.9 kB\u001b[0m \u001b[31m3.9 MB/s\u001b[0m eta \u001b[36m0:00:00\u001b[0m\n",
            "\u001b[?25h\u001b[31mERROR: pip's dependency resolver does not currently take into account all the packages that are installed. This behaviour is the source of the following dependency conflicts.\n",
            "google-colab 1.0.0 requires requests==2.32.4, but you have requests 2.32.5 which is incompatible.\u001b[0m\u001b[31m\n",
            "\u001b[0m"
          ]
        }
      ],
      "source": [
        "!pip install -q -U langchain-community langchain-openai\n"
      ]
    },
    {
      "cell_type": "code",
      "source": [
        "from google.colab import userdata\n",
        "\n",
        "api_key = userdata.get('OPENAI_API_KEY')"
      ],
      "metadata": {
        "id": "8V-eACjTBeGZ"
      },
      "execution_count": 2,
      "outputs": []
    },
    {
      "cell_type": "code",
      "source": [
        "from langchain_core.prompts import ChatPromptTemplate\n",
        "from langchain_core.output_parsers import StrOutputParser\n",
        "from langchain_openai import ChatOpenAI"
      ],
      "metadata": {
        "id": "FgKPiROfBeD5"
      },
      "execution_count": 4,
      "outputs": []
    },
    {
      "cell_type": "code",
      "source": [
        "llm = ChatOpenAI(api_key=api_key,\n",
        "                 model = \"gpt-3.5-turbo\",\n",
        "                 temperature =0.1\n",
        "                 )"
      ],
      "metadata": {
        "id": "Dql5Cuo1Bd-Y"
      },
      "execution_count": 5,
      "outputs": []
    },
    {
      "cell_type": "code",
      "source": [
        "parser = StrOutputParser()"
      ],
      "metadata": {
        "id": "V-jnRsUtBd7h"
      },
      "execution_count": 6,
      "outputs": []
    },
    {
      "cell_type": "code",
      "source": [
        "chat_history: list of messages\n",
        "\n",
        "message -> role & content\n",
        "\n",
        "role: 1. system; 2. \"User\"; 3. assistant;"
      ],
      "metadata": {
        "id": "vZtUwcppChl7"
      },
      "execution_count": null,
      "outputs": []
    },
    {
      "cell_type": "code",
      "source": [
        "def chat():\n",
        "  chat_history = [\n",
        "      (\"system\",\"You are a helpful chatbot. Be concise and accurate.\")\n",
        "  ]\n",
        "  print(\"Langchain Chatbot. type 'exit' to quit\\n\")\n",
        "\n",
        "  while True:\n",
        "    user_input = input(\"You: \").strip()\n",
        "\n",
        "    if user_input.lower() == 'exit':\n",
        "      break\n",
        "\n",
        "    chat_history.append((\"user\", user_input))\n",
        "    prompt = ChatPromptTemplate.from_messages(chat_history)\n",
        "\n",
        "    chain = prompt | llm | parser\n",
        "    response = chain.invoke({})\n",
        "\n",
        "    print(f\"Bot: {response}\\n\")\n",
        "    chat_history.append((\"assistant\", response))\n",
        "\n",
        "    print(\"-\"*50)"
      ],
      "metadata": {
        "id": "w5_SK5anChjL"
      },
      "execution_count": 12,
      "outputs": []
    },
    {
      "cell_type": "code",
      "source": [
        "chat()"
      ],
      "metadata": {
        "colab": {
          "base_uri": "https://localhost:8080/"
        },
        "id": "0RFf9T4MChbM",
        "outputId": "b3af1e83-3635-4a3b-c576-0cdbf9b8207e"
      },
      "execution_count": 13,
      "outputs": [
        {
          "name": "stdout",
          "output_type": "stream",
          "text": [
            "Langchain Chatbot. type 'exit' to quit\n",
            "\n",
            "You: what is DL?\n",
            "Bot: DL stands for Deep Learning, which is a subset of machine learning that uses artificial neural networks to model and solve complex problems.\n",
            "\n",
            "--------------------------------------------------\n",
            "You: can you explain that again please in 1 line\n",
            "Bot: Deep Learning is a subset of machine learning that uses artificial neural networks to model and solve complex problems.\n",
            "\n",
            "--------------------------------------------------\n",
            "You: exit\n"
          ]
        }
      ]
    }
  ]
}